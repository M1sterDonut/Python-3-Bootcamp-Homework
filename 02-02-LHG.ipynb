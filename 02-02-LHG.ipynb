{
 "cells": [
  {
   "cell_type": "code",
   "execution_count": 3,
   "id": "9038a26f",
   "metadata": {},
   "outputs": [],
   "source": [
    "hungry = False"
   ]
  },
  {
   "cell_type": "code",
   "execution_count": 4,
   "id": "4292aac9",
   "metadata": {},
   "outputs": [
    {
     "name": "stdout",
     "output_type": "stream",
     "text": [
      "Meh, not hungry\n"
     ]
    }
   ],
   "source": [
    "if hungry:\n",
    "    print(\"Feed me!!!\")\n",
    "    \n",
    "else:\n",
    "    print(\"Meh, not hungry\")"
   ]
  },
  {
   "cell_type": "code",
   "execution_count": 9,
   "id": "4aa77a06",
   "metadata": {
    "scrolled": true
   },
   "outputs": [
    {
     "name": "stdout",
     "output_type": "stream",
     "text": [
      "Hi Dan!\n"
     ]
    }
   ],
   "source": [
    "name = 'Dan'\n",
    "\n",
    "if name == 'Max':\n",
    "    print(\"That's a cool name!\")\n",
    "elif name == 'Dan':\n",
    "    print(\"Hi Dan!\")\n",
    "else:\n",
    "    print(\"I don't like your name...\")"
   ]
  },
  {
   "cell_type": "code",
   "execution_count": null,
   "id": "4017d939",
   "metadata": {},
   "outputs": [],
   "source": []
  }
 ],
 "metadata": {
  "kernelspec": {
   "display_name": "Python 3 (ipykernel)",
   "language": "python",
   "name": "python3"
  },
  "language_info": {
   "codemirror_mode": {
    "name": "ipython",
    "version": 3
   },
   "file_extension": ".py",
   "mimetype": "text/x-python",
   "name": "python",
   "nbconvert_exporter": "python",
   "pygments_lexer": "ipython3",
   "version": "3.7.1"
  }
 },
 "nbformat": 4,
 "nbformat_minor": 5
}
