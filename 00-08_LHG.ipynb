{
 "cells": [
  {
   "cell_type": "markdown",
   "id": "bd135247",
   "metadata": {},
   "source": [
    "## Creating a file"
   ]
  },
  {
   "cell_type": "code",
   "execution_count": 1,
   "id": "8245ac45",
   "metadata": {},
   "outputs": [],
   "source": [
    "#jnb specific"
   ]
  },
  {
   "cell_type": "code",
   "execution_count": 2,
   "id": "803b45da",
   "metadata": {},
   "outputs": [
    {
     "name": "stdout",
     "output_type": "stream",
     "text": [
      "Writing myfile.txt\n"
     ]
    }
   ],
   "source": [
    "%%writefile myfile.txt\n",
    "There once was a ship that put to sea.\n",
    "The name of the ship was the Billy of Tea. \n",
    "The winds blew hard, her bow dipped down.\n",
    "Blow my bully boys, blow. "
   ]
  },
  {
   "cell_type": "code",
   "execution_count": 3,
   "id": "70b36a8f",
   "metadata": {},
   "outputs": [
    {
     "data": {
      "text/plain": [
       "'C:\\\\Users\\\\Lars-Hendrik.Greiwe\\\\OneDrive - Ofcom\\\\Learning & Development\\\\Data Science\\\\Complete-Python-3-Bootcamp-master\\\\00-Python Object and Data Structure Basics'"
      ]
     },
     "execution_count": 3,
     "metadata": {},
     "output_type": "execute_result"
    }
   ],
   "source": [
    "pwd"
   ]
  },
  {
   "cell_type": "code",
   "execution_count": 4,
   "id": "8abaac0b",
   "metadata": {},
   "outputs": [
    {
     "ename": "FileNotFoundError",
     "evalue": "[Errno 2] No such file or directory: 'whoops.txt'",
     "output_type": "error",
     "traceback": [
      "\u001b[1;31m---------------------------------------------------------------------------\u001b[0m",
      "\u001b[1;31mFileNotFoundError\u001b[0m                         Traceback (most recent call last)",
      "\u001b[1;32mC:\\Users\\LARS-H~1.GRE\\AppData\\Local\\Temp/ipykernel_17736/911797679.py\u001b[0m in \u001b[0;36m<module>\u001b[1;34m\u001b[0m\n\u001b[1;32m----> 1\u001b[1;33m \u001b[0mmytext\u001b[0m \u001b[1;33m=\u001b[0m \u001b[0mopen\u001b[0m\u001b[1;33m(\u001b[0m\u001b[1;34m'whoops.txt'\u001b[0m\u001b[1;33m)\u001b[0m\u001b[1;33m\u001b[0m\u001b[1;33m\u001b[0m\u001b[0m\n\u001b[0m",
      "\u001b[1;31mFileNotFoundError\u001b[0m: [Errno 2] No such file or directory: 'whoops.txt'"
     ]
    }
   ],
   "source": [
    "mytext = open('whoops.txt')"
   ]
  },
  {
   "cell_type": "code",
   "execution_count": 5,
   "id": "0032f6d5",
   "metadata": {},
   "outputs": [],
   "source": [
    "mytext = open('myfile.txt')"
   ]
  },
  {
   "cell_type": "code",
   "execution_count": 8,
   "id": "5f45552b",
   "metadata": {},
   "outputs": [
    {
     "data": {
      "text/plain": [
       "'There once was a ship that put to sea.\\nThe name of the ship was the Billy of Tea. \\nThe winds blew hard, her bow dipped down.\\nBlow my bully boys, blow. \\n'"
      ]
     },
     "execution_count": 8,
     "metadata": {},
     "output_type": "execute_result"
    }
   ],
   "source": [
    "mytext.read()"
   ]
  },
  {
   "cell_type": "code",
   "execution_count": 7,
   "id": "a6bb2645",
   "metadata": {},
   "outputs": [
    {
     "ename": "TypeError",
     "evalue": "'_io.TextIOWrapper' object is not callable",
     "output_type": "error",
     "traceback": [
      "\u001b[1;31m---------------------------------------------------------------------------\u001b[0m",
      "\u001b[1;31mTypeError\u001b[0m                                 Traceback (most recent call last)",
      "\u001b[1;32mC:\\Users\\LARS-H~1.GRE\\AppData\\Local\\Temp/ipykernel_17736/3388668052.py\u001b[0m in \u001b[0;36m<module>\u001b[1;34m\u001b[0m\n\u001b[1;32m----> 1\u001b[1;33m \u001b[0mmytext\u001b[0m\u001b[1;33m(\u001b[0m\u001b[1;33m)\u001b[0m\u001b[1;33m\u001b[0m\u001b[1;33m\u001b[0m\u001b[0m\n\u001b[0m",
      "\u001b[1;31mTypeError\u001b[0m: '_io.TextIOWrapper' object is not callable"
     ]
    }
   ],
   "source": [
    "mytext()"
   ]
  },
  {
   "cell_type": "code",
   "execution_count": 13,
   "id": "09fe1b69",
   "metadata": {},
   "outputs": [],
   "source": [
    "with open ('myfile.txt') as my_new_file:\n",
    "    contents = my_new_file.read()\n",
    "    #any code here that's within this block \n",
    "    #is going to use my_new_file \n",
    "    #as the variable of this text file."
   ]
  },
  {
   "cell_type": "code",
   "execution_count": 10,
   "id": "17a271b2",
   "metadata": {},
   "outputs": [
    {
     "data": {
      "text/plain": [
       "'There once was a ship that put to sea.\\nThe name of the ship was the Billy of Tea. \\nThe winds blew hard, her bow dipped down.\\nBlow my bully boys, blow. \\n'"
      ]
     },
     "execution_count": 10,
     "metadata": {},
     "output_type": "execute_result"
    }
   ],
   "source": [
    "contents"
   ]
  },
  {
   "cell_type": "markdown",
   "id": "6fddec61",
   "metadata": {},
   "source": [
    "## Writing to files"
   ]
  },
  {
   "cell_type": "code",
   "execution_count": 17,
   "id": "1c52ceb1",
   "metadata": {},
   "outputs": [
    {
     "ename": "UnsupportedOperation",
     "evalue": "not readable",
     "output_type": "error",
     "traceback": [
      "\u001b[1;31m---------------------------------------------------------------------------\u001b[0m",
      "\u001b[1;31mUnsupportedOperation\u001b[0m                      Traceback (most recent call last)",
      "\u001b[1;32mC:\\Users\\LARS-H~1.GRE\\AppData\\Local\\Temp/ipykernel_17736/1271529378.py\u001b[0m in \u001b[0;36m<module>\u001b[1;34m\u001b[0m\n\u001b[0;32m      1\u001b[0m \u001b[1;32mwith\u001b[0m \u001b[0mopen\u001b[0m\u001b[1;33m(\u001b[0m\u001b[1;34m'myfile.txt'\u001b[0m\u001b[1;33m,\u001b[0m\u001b[0mmode\u001b[0m\u001b[1;33m=\u001b[0m\u001b[1;34m'w'\u001b[0m\u001b[1;33m)\u001b[0m \u001b[1;32mas\u001b[0m \u001b[0mmyfile\u001b[0m\u001b[1;33m:\u001b[0m\u001b[1;33m\u001b[0m\u001b[1;33m\u001b[0m\u001b[0m\n\u001b[1;32m----> 2\u001b[1;33m     \u001b[0mcontents\u001b[0m \u001b[1;33m=\u001b[0m \u001b[0mmyfile\u001b[0m\u001b[1;33m.\u001b[0m\u001b[0mread\u001b[0m\u001b[1;33m(\u001b[0m\u001b[1;33m)\u001b[0m\u001b[1;33m\u001b[0m\u001b[1;33m\u001b[0m\u001b[0m\n\u001b[0m",
      "\u001b[1;31mUnsupportedOperation\u001b[0m: not readable"
     ]
    }
   ],
   "source": [
    "with open('myfile.txt',mode='w') as myfile:\n",
    "    contents = myfile.read()"
   ]
  },
  {
   "cell_type": "code",
   "execution_count": 16,
   "id": "e2bc5633",
   "metadata": {},
   "outputs": [
    {
     "data": {
      "text/plain": [
       "'There once was a ship that put to sea.\\nThe name of the ship was the Billy of Tea. \\nThe winds blew hard, her bow dipped down.\\nBlow my bully boys, blow. \\n'"
      ]
     },
     "execution_count": 16,
     "metadata": {},
     "output_type": "execute_result"
    }
   ],
   "source": [
    "contents"
   ]
  },
  {
   "cell_type": "code",
   "execution_count": 40,
   "id": "8a8bdb57",
   "metadata": {},
   "outputs": [],
   "source": [
    "with open('my_new_song.txt',mode='w') as songtext:\n",
    "    songtext.write('Then I won a hundred bucks on a scratch-off ticket,\\nBought two twelve-packs and a tank of gas with it.')"
   ]
  },
  {
   "cell_type": "code",
   "execution_count": 41,
   "id": "8e387ee6",
   "metadata": {},
   "outputs": [
    {
     "name": "stdout",
     "output_type": "stream",
     "text": [
      "Then I won a hundred bucks on a scratch-off ticket,\n",
      "Bought two twelve-packs and a tank of gas with it.\n"
     ]
    }
   ],
   "source": [
    "with open('my_new_song.txt',mode='r') as songtext:\n",
    "    print(songtext.read())"
   ]
  },
  {
   "cell_type": "code",
   "execution_count": 42,
   "id": "d0db778f",
   "metadata": {},
   "outputs": [],
   "source": [
    "with open('my_new_song.txt',mode='a') as songtext:\n",
    "    songtext.write('\\nShe swore they were a waist of time,\\nMan, she was wrong')"
   ]
  },
  {
   "cell_type": "code",
   "execution_count": 43,
   "id": "0c4c3f73",
   "metadata": {},
   "outputs": [
    {
     "name": "stdout",
     "output_type": "stream",
     "text": [
      "Then I won a hundred bucks on a scratch-off ticket,\n",
      "Bought two twelve-packs and a tank of gas with it.\n",
      "She swore they were a waist of time,\n",
      "Man, she was wrong\n"
     ]
    }
   ],
   "source": [
    "with open('my_new_song.txt',mode='r') as songtext:\n",
    "    print(songtext.read())"
   ]
  },
  {
   "cell_type": "code",
   "execution_count": 44,
   "id": "4c6dda82",
   "metadata": {},
   "outputs": [],
   "source": [
    "with open('my_new_song.txt',mode='w') as songtext:\n",
    "    songtext.write('I was caller number 5 on the radio station,\\nwon a four day, three night beach vacation.')"
   ]
  },
  {
   "cell_type": "code",
   "execution_count": 45,
   "id": "c79d4439",
   "metadata": {},
   "outputs": [
    {
     "name": "stdout",
     "output_type": "stream",
     "text": [
      "I was caller number 5 on the radio station,\n",
      "won a four day, three night beach vacation.\n"
     ]
    }
   ],
   "source": [
    "with open('my_new_song.txt',mode='r') as songtext:\n",
    "    print(songtext.read())"
   ]
  },
  {
   "cell_type": "code",
   "execution_count": null,
   "id": "0e445562",
   "metadata": {},
   "outputs": [],
   "source": []
  }
 ],
 "metadata": {
  "kernelspec": {
   "display_name": "Python 3 (ipykernel)",
   "language": "python",
   "name": "python3"
  },
  "language_info": {
   "codemirror_mode": {
    "name": "ipython",
    "version": 3
   },
   "file_extension": ".py",
   "mimetype": "text/x-python",
   "name": "python",
   "nbconvert_exporter": "python",
   "pygments_lexer": "ipython3",
   "version": "3.7.1"
  }
 },
 "nbformat": 4,
 "nbformat_minor": 5
}
