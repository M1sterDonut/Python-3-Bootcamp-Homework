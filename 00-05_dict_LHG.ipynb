{
 "cells": [
  {
   "cell_type": "code",
   "execution_count": 2,
   "id": "d45b9be2",
   "metadata": {},
   "outputs": [],
   "source": [
    "my_dict = {\"key1\":\"value1\"}"
   ]
  },
  {
   "cell_type": "code",
   "execution_count": 3,
   "id": "b34ccf9e",
   "metadata": {},
   "outputs": [
    {
     "data": {
      "text/plain": [
       "'value1'"
      ]
     },
     "execution_count": 3,
     "metadata": {},
     "output_type": "execute_result"
    }
   ],
   "source": [
    "my_dict[\"key1\"]"
   ]
  },
  {
   "cell_type": "code",
   "execution_count": 5,
   "id": "ebef4a8a",
   "metadata": {},
   "outputs": [],
   "source": [
    "data_volumes = {\"BT\":\"6145 TB\", \"O2\":\"2423 TB\", \"Three\":\"824 TB\"}"
   ]
  },
  {
   "cell_type": "code",
   "execution_count": 6,
   "id": "7ba83d3a",
   "metadata": {},
   "outputs": [
    {
     "data": {
      "text/plain": [
       "'824 TB'"
      ]
     },
     "execution_count": 6,
     "metadata": {},
     "output_type": "execute_result"
    }
   ],
   "source": [
    "data_volumes[\"Three\"]"
   ]
  },
  {
   "cell_type": "code",
   "execution_count": 7,
   "id": "40082a28",
   "metadata": {},
   "outputs": [],
   "source": [
    "data = {\"BT\":{\"Data_vol\":\"6145 TB\", \"Data_rev_pounds\":16820752}}"
   ]
  },
  {
   "cell_type": "code",
   "execution_count": 9,
   "id": "42fd28ec",
   "metadata": {},
   "outputs": [
    {
     "data": {
      "text/plain": [
       "16820752"
      ]
     },
     "execution_count": 9,
     "metadata": {},
     "output_type": "execute_result"
    }
   ],
   "source": [
    "data[\"BT\"][\"Data_rev_pounds\"]"
   ]
  },
  {
   "cell_type": "code",
   "execution_count": 10,
   "id": "140e6423",
   "metadata": {},
   "outputs": [],
   "source": [
    "d = {\"key1\":[\"a\",'b','c']}"
   ]
  },
  {
   "cell_type": "code",
   "execution_count": 11,
   "id": "cb0e007c",
   "metadata": {},
   "outputs": [
    {
     "data": {
      "text/plain": [
       "'C'"
      ]
     },
     "execution_count": 11,
     "metadata": {},
     "output_type": "execute_result"
    }
   ],
   "source": [
    "d['key1'][2].upper()"
   ]
  },
  {
   "cell_type": "code",
   "execution_count": 12,
   "id": "44e06c9c",
   "metadata": {},
   "outputs": [
    {
     "data": {
      "text/plain": [
       "{'key1': ['a', 'b', 'c']}"
      ]
     },
     "execution_count": 12,
     "metadata": {},
     "output_type": "execute_result"
    }
   ],
   "source": [
    "d"
   ]
  },
  {
   "cell_type": "code",
   "execution_count": 19,
   "id": "9858e42f",
   "metadata": {},
   "outputs": [],
   "source": [
    "f = {'k1':200,'k2':200}"
   ]
  },
  {
   "cell_type": "code",
   "execution_count": 20,
   "id": "f71ed1e4",
   "metadata": {},
   "outputs": [],
   "source": [
    "f['k3'] = 300"
   ]
  },
  {
   "cell_type": "code",
   "execution_count": 21,
   "id": "ba2ea5ff",
   "metadata": {},
   "outputs": [
    {
     "data": {
      "text/plain": [
       "{'k1': 200, 'k2': 200, 'k3': 300}"
      ]
     },
     "execution_count": 21,
     "metadata": {},
     "output_type": "execute_result"
    }
   ],
   "source": [
    "f"
   ]
  },
  {
   "cell_type": "code",
   "execution_count": 22,
   "id": "898f64ef",
   "metadata": {},
   "outputs": [],
   "source": [
    "f['k3'] = 3000"
   ]
  },
  {
   "cell_type": "code",
   "execution_count": 23,
   "id": "745c2852",
   "metadata": {},
   "outputs": [
    {
     "data": {
      "text/plain": [
       "{'k1': 200, 'k2': 200, 'k3': 3000}"
      ]
     },
     "execution_count": 23,
     "metadata": {},
     "output_type": "execute_result"
    }
   ],
   "source": [
    "f"
   ]
  },
  {
   "cell_type": "code",
   "execution_count": 24,
   "id": "c44ff4b9",
   "metadata": {},
   "outputs": [],
   "source": [
    "f['k1'] = 100"
   ]
  },
  {
   "cell_type": "code",
   "execution_count": 25,
   "id": "03ac7a38",
   "metadata": {},
   "outputs": [
    {
     "data": {
      "text/plain": [
       "{'k1': 100, 'k2': 200, 'k3': 3000}"
      ]
     },
     "execution_count": 25,
     "metadata": {},
     "output_type": "execute_result"
    }
   ],
   "source": [
    "f"
   ]
  },
  {
   "cell_type": "code",
   "execution_count": 26,
   "id": "c43dd080",
   "metadata": {},
   "outputs": [],
   "source": [
    "f['k3'] = 300"
   ]
  },
  {
   "cell_type": "code",
   "execution_count": 27,
   "id": "5b6aab0d",
   "metadata": {},
   "outputs": [
    {
     "data": {
      "text/plain": [
       "{'k1': 100, 'k2': 200, 'k3': 300}"
      ]
     },
     "execution_count": 27,
     "metadata": {},
     "output_type": "execute_result"
    }
   ],
   "source": [
    "f"
   ]
  },
  {
   "cell_type": "code",
   "execution_count": 28,
   "id": "57434d15",
   "metadata": {},
   "outputs": [
    {
     "data": {
      "text/plain": [
       "<function dict.keys>"
      ]
     },
     "execution_count": 28,
     "metadata": {},
     "output_type": "execute_result"
    }
   ],
   "source": [
    "f.keys"
   ]
  },
  {
   "cell_type": "code",
   "execution_count": 29,
   "id": "c66dbea5",
   "metadata": {},
   "outputs": [
    {
     "data": {
      "text/plain": [
       "dict_keys(['k1', 'k2', 'k3'])"
      ]
     },
     "execution_count": 29,
     "metadata": {},
     "output_type": "execute_result"
    }
   ],
   "source": [
    "f.keys()"
   ]
  },
  {
   "cell_type": "code",
   "execution_count": 30,
   "id": "259e3d76",
   "metadata": {},
   "outputs": [
    {
     "data": {
      "text/plain": [
       "dict_values([100, 200, 300])"
      ]
     },
     "execution_count": 30,
     "metadata": {},
     "output_type": "execute_result"
    }
   ],
   "source": [
    "f.values()"
   ]
  },
  {
   "cell_type": "code",
   "execution_count": 31,
   "id": "6d41cfa7",
   "metadata": {},
   "outputs": [
    {
     "data": {
      "text/plain": [
       "dict_items([('k1', 100), ('k2', 200), ('k3', 300)])"
      ]
     },
     "execution_count": 31,
     "metadata": {},
     "output_type": "execute_result"
    }
   ],
   "source": [
    "f.items()"
   ]
  },
  {
   "cell_type": "code",
   "execution_count": null,
   "id": "2fe05dd4",
   "metadata": {},
   "outputs": [],
   "source": []
  }
 ],
 "metadata": {
  "kernelspec": {
   "display_name": "Python 3 (ipykernel)",
   "language": "python",
   "name": "python3"
  },
  "language_info": {
   "codemirror_mode": {
    "name": "ipython",
    "version": 3
   },
   "file_extension": ".py",
   "mimetype": "text/x-python",
   "name": "python",
   "nbconvert_exporter": "python",
   "pygments_lexer": "ipython3",
   "version": "3.7.1"
  }
 },
 "nbformat": 4,
 "nbformat_minor": 5
}
