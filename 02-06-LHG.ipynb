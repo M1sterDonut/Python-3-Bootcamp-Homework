{
 "cells": [
  {
   "cell_type": "markdown",
   "id": "680e4d78",
   "metadata": {},
   "source": [
    "List comprehension = quick what to create a list instead of for loop w append statement"
   ]
  },
  {
   "cell_type": "code",
   "execution_count": 1,
   "id": "0978ca44",
   "metadata": {},
   "outputs": [],
   "source": [
    "tastyfood = 'souvlaki'\n",
    "\n",
    "#how to make a list of the letters?\n",
    "tastyletters = []\n",
    "\n",
    "for letter in tastyfood:\n",
    "    tastyletters.append(letter)"
   ]
  },
  {
   "cell_type": "code",
   "execution_count": 2,
   "id": "60870096",
   "metadata": {},
   "outputs": [
    {
     "data": {
      "text/plain": [
       "['s', 'o', 'u', 'v', 'l', 'a', 'k', 'i']"
      ]
     },
     "execution_count": 2,
     "metadata": {},
     "output_type": "execute_result"
    }
   ],
   "source": [
    "tastyletters"
   ]
  },
  {
   "cell_type": "code",
   "execution_count": 5,
   "id": "2953a506",
   "metadata": {},
   "outputs": [],
   "source": [
    "#more efficient way (less space in code)\n",
    "\n",
    "tastyfood = 'souvlaki'\n",
    "\n",
    "#how to make a list of the letters?\n",
    "tastyletters = [letter for letter in tastyfood]"
   ]
  },
  {
   "cell_type": "code",
   "execution_count": 6,
   "id": "2ae82792",
   "metadata": {},
   "outputs": [
    {
     "data": {
      "text/plain": [
       "['s', 'o', 'u', 'v', 'l', 'a', 'k', 'i']"
      ]
     },
     "execution_count": 6,
     "metadata": {},
     "output_type": "execute_result"
    }
   ],
   "source": [
    "tastyletters"
   ]
  },
  {
   "cell_type": "code",
   "execution_count": 7,
   "id": "3ab5dc35",
   "metadata": {},
   "outputs": [],
   "source": [
    "#clearer if you want to do a kind of operation at the same time, e.g. create a list that has\n",
    "#each letter twice\n",
    "\n",
    "tastyfood = 'souvlaki'\n",
    "\n",
    "#make a list with each letter twice\n",
    "\n",
    "tastyletters = [letter*2 for letter in tastyfood]"
   ]
  },
  {
   "cell_type": "code",
   "execution_count": 8,
   "id": "71b8356b",
   "metadata": {},
   "outputs": [
    {
     "data": {
      "text/plain": [
       "['ss', 'oo', 'uu', 'vv', 'll', 'aa', 'kk', 'ii']"
      ]
     },
     "execution_count": 8,
     "metadata": {},
     "output_type": "execute_result"
    }
   ],
   "source": [
    "tastyletters"
   ]
  },
  {
   "cell_type": "code",
   "execution_count": 6,
   "id": "4baaaf46",
   "metadata": {},
   "outputs": [],
   "source": [
    "\n",
    "\n",
    "lottery_numbers = [number**2 for number in range(0,11)]"
   ]
  },
  {
   "cell_type": "code",
   "execution_count": 7,
   "id": "fe26d7ed",
   "metadata": {},
   "outputs": [
    {
     "data": {
      "text/plain": [
       "[0, 1, 4, 9, 16, 25, 36, 49, 64, 81, 100]"
      ]
     },
     "execution_count": 7,
     "metadata": {},
     "output_type": "execute_result"
    }
   ],
   "source": [
    "lottery_numbers"
   ]
  },
  {
   "cell_type": "code",
   "execution_count": 10,
   "id": "83d21726",
   "metadata": {},
   "outputs": [],
   "source": [
    "#if statements\n",
    "\n",
    "#only even lot numb\n",
    "\n",
    "lottery_numbers = [number for number in lottery_numbers if number%2==0]"
   ]
  },
  {
   "cell_type": "code",
   "execution_count": null,
   "id": "ad08caf7",
   "metadata": {},
   "outputs": [],
   "source": []
  },
  {
   "cell_type": "code",
   "execution_count": 11,
   "id": "2db361ea",
   "metadata": {},
   "outputs": [
    {
     "data": {
      "text/plain": [
       "[0, 4, 16, 36, 64, 100]"
      ]
     },
     "execution_count": 11,
     "metadata": {},
     "output_type": "execute_result"
    }
   ],
   "source": [
    "lottery_numbers"
   ]
  },
  {
   "cell_type": "code",
   "execution_count": null,
   "id": "79f60117",
   "metadata": {},
   "outputs": [],
   "source": []
  }
 ],
 "metadata": {
  "kernelspec": {
   "display_name": "Python 3",
   "language": "python",
   "name": "python3"
  },
  "language_info": {
   "codemirror_mode": {
    "name": "ipython",
    "version": 3
   },
   "file_extension": ".py",
   "mimetype": "text/x-python",
   "name": "python",
   "nbconvert_exporter": "python",
   "pygments_lexer": "ipython3",
   "version": "3.8.8"
  }
 },
 "nbformat": 4,
 "nbformat_minor": 5
}
